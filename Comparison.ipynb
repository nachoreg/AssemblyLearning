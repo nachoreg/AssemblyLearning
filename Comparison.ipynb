{
 "cells": [
  {
   "cell_type": "code",
   "execution_count": 1,
   "metadata": {
    "id": "xCKN5sheT-la"
   },
   "outputs": [],
   "source": [
    "import pandas as pd\n",
    "from sklearn.model_selection import train_test_split\n",
    "import assembly_regression "
   ]
  },
  {
   "cell_type": "code",
   "execution_count": 2,
   "metadata": {
    "id": "qj04wvWVazY4"
   },
   "outputs": [],
   "source": [
    "data = {'real_estate' : ['https://raw.githubusercontent.com/ostapkharysh/PublicDatasets/master/Regression/Real%20estate.csv', ['X2 house age', 'X3 distance to the nearest MRT station', 'X4 number of convenience stores'], 'Y house price of unit area' ],\n",
    "        'cancer_reg' : ['https://raw.githubusercontent.com/ostapkharysh/PublicDatasets/master/Regression/cancer_reg.csv', ['avgAnnCount', 'avgDeathsPerYear', 'incidenceRate', 'medIncome', 'popEst2015', \n",
    "                        'povertyPercent', 'studyPerCap', 'MedianAge', 'AvgHouseholdSize', 'PercentMarried', 'BirthRate', 'PctWhite', 'PctBlack', 'PctAsian', 'PctOtherRace'], 'TARGET_deathRate'],\n",
    "        'insurance_charge' : ['https://raw.githubusercontent.com/ostapkharysh/PublicDatasets/master/Regression/insuranceCharge.csv', ['age', 'bmi', 'children'], 'charges'], \n",
    "        'bike' : ['https://raw.githubusercontent.com/ostapkharysh/PublicDatasets/master/Regression/bike_hour.csv', ['hr', 'holiday', 'weathersit', 'temp', 'atemp','hum', 'windspeed'], 'cnt'],\n",
    "         }"
   ]
  },
  {
   "cell_type": "code",
   "execution_count": 3,
   "metadata": {
    "id": "xIqlkwmllFlq"
   },
   "outputs": [],
   "source": [
    "results = {'assembly': []}"
   ]
  },
  {
   "cell_type": "code",
   "execution_count": 4,
   "metadata": {
    "colab": {
     "base_uri": "https://localhost:8080/"
    },
    "id": "alwrGWz_kqv0",
    "outputId": "b6433974-20a5-41bb-891e-da2a60769486"
   },
   "outputs": [
    {
     "name": "stdout",
     "output_type": "stream",
     "text": [
      "real_estate\n",
      "cancer_reg\n",
      "insurance_charge\n",
      "bike\n"
     ]
    }
   ],
   "source": [
    "for model in results.keys():\n",
    "    for el in data:\n",
    "        df = pd.read_csv(data[el][0], encoding=\"ISO-8859-1\")\n",
    "        ds, competition = train_test_split(df, test_size=0.2)\n",
    "        ds = ds.reset_index(drop=True)\n",
    "        competition = competition.reset_index(drop=True)\n",
    "        print(el)\n",
    "        \n",
    "        if model == 'assembly':\n",
    "            results[model].append( assembly_regression.analyze_assembly(learning_ds=ds,competition_ds=competition, X=data[el][1], Y=data[el][2])[0]['rmse'])\n",
    "        else:\n",
    "            \"your code\"\n",
    "            \n"
   ]
  },
  {
   "cell_type": "code",
   "execution_count": 5,
   "metadata": {},
   "outputs": [
    {
     "data": {
      "text/plain": [
       "{'assembly': [7.084935082086316,\n",
       "  21.313949701016444,\n",
       "  11570.4344563466,\n",
       "  111.93980525200918]}"
      ]
     },
     "execution_count": 5,
     "metadata": {},
     "output_type": "execute_result"
    }
   ],
   "source": [
    "results"
   ]
  },
  {
   "cell_type": "code",
   "execution_count": 6,
   "metadata": {
    "id": "TPVcPIpGnJAd"
   },
   "outputs": [],
   "source": [
    "ts_data = {'real_estate' : ['https://raw.githubusercontent.com/ostapkharysh/PublicDatasets/master/Regression/Real%20estate.csv', 'Y house price of unit area'], \n",
    "           'cancer_reg' : ['https://raw.githubusercontent.com/ostapkharysh/PublicDatasets/master/Regression/cancer_reg.csv', 'TARGET_deathRate'], \n",
    "           'insurance_charge' : ['https://raw.githubusercontent.com/ostapkharysh/PublicDatasets/master/Regression/insuranceCharge.csv', 'charges'], \n",
    "           'bike' : ['https://raw.githubusercontent.com/ostapkharysh/PublicDatasets/master/Regression/bike_hour.csv', 'cnt'], \n",
    "           'ibm' : ['https://raw.githubusercontent.com/PacktPublishing/Practical-Time-Series-Analysis/master/Data%20Files/ibm-common-stock-closing-prices.csv', 'IBM common stock closing prices'], \n",
    "           #'precipitation' : ['https://raw.githubusercontent.com/ostapkharysh/PublicDatasets/master/TimeSeries/halfhourly-precipitation-and-str.csv', 'Flow']\n",
    "}\n"
   ]
  },
  {
   "cell_type": "code",
   "execution_count": 7,
   "metadata": {
    "id": "whkcyIppnaMl"
   },
   "outputs": [],
   "source": [
    "ts_results = {'assembly': []}\n",
    "\n",
    "def make_dataset_from_ts(d, num_x=10, value=None):\n",
    "    for idx in range(num_x):\n",
    "        d['t-' + str(idx+1)] = d[value].shift(+(idx+1))\n",
    "    return d[num_x:]"
   ]
  },
  {
   "cell_type": "code",
   "execution_count": 8,
   "metadata": {
    "colab": {
     "base_uri": "https://localhost:8080/",
     "height": 1000
    },
    "id": "WxL6w86foWc-",
    "outputId": "1dbc8aa3-fe5f-4da5-de7e-0b9fe5f223f8",
    "scrolled": false
   },
   "outputs": [
    {
     "name": "stderr",
     "output_type": "stream",
     "text": [
      "<ipython-input-7-d97a1f857bcc>:5: SettingWithCopyWarning: \n",
      "A value is trying to be set on a copy of a slice from a DataFrame.\n",
      "Try using .loc[row_indexer,col_indexer] = value instead\n",
      "\n",
      "See the caveats in the documentation: https://pandas.pydata.org/pandas-docs/stable/user_guide/indexing.html#returning-a-view-versus-a-copy\n",
      "  d['t-' + str(idx+1)] = d[value].shift(+(idx+1))\n"
     ]
    },
    {
     "name": "stdout",
     "output_type": "stream",
     "text": [
      "real_estate\n"
     ]
    },
    {
     "name": "stderr",
     "output_type": "stream",
     "text": [
      "<ipython-input-7-d97a1f857bcc>:5: SettingWithCopyWarning: \n",
      "A value is trying to be set on a copy of a slice from a DataFrame.\n",
      "Try using .loc[row_indexer,col_indexer] = value instead\n",
      "\n",
      "See the caveats in the documentation: https://pandas.pydata.org/pandas-docs/stable/user_guide/indexing.html#returning-a-view-versus-a-copy\n",
      "  d['t-' + str(idx+1)] = d[value].shift(+(idx+1))\n"
     ]
    },
    {
     "name": "stdout",
     "output_type": "stream",
     "text": [
      "cancer_reg\n"
     ]
    },
    {
     "name": "stderr",
     "output_type": "stream",
     "text": [
      "<ipython-input-7-d97a1f857bcc>:5: SettingWithCopyWarning: \n",
      "A value is trying to be set on a copy of a slice from a DataFrame.\n",
      "Try using .loc[row_indexer,col_indexer] = value instead\n",
      "\n",
      "See the caveats in the documentation: https://pandas.pydata.org/pandas-docs/stable/user_guide/indexing.html#returning-a-view-versus-a-copy\n",
      "  d['t-' + str(idx+1)] = d[value].shift(+(idx+1))\n"
     ]
    },
    {
     "name": "stdout",
     "output_type": "stream",
     "text": [
      "insurance_charge\n"
     ]
    },
    {
     "name": "stderr",
     "output_type": "stream",
     "text": [
      "<ipython-input-7-d97a1f857bcc>:5: SettingWithCopyWarning: \n",
      "A value is trying to be set on a copy of a slice from a DataFrame.\n",
      "Try using .loc[row_indexer,col_indexer] = value instead\n",
      "\n",
      "See the caveats in the documentation: https://pandas.pydata.org/pandas-docs/stable/user_guide/indexing.html#returning-a-view-versus-a-copy\n",
      "  d['t-' + str(idx+1)] = d[value].shift(+(idx+1))\n"
     ]
    },
    {
     "name": "stdout",
     "output_type": "stream",
     "text": [
      "bike\n",
      "ibm\n"
     ]
    }
   ],
   "source": [
    "for model in results.keys():\n",
    "    for el in ts_data:\n",
    "        Y = ts_data[el][1]\n",
    "        df = pd.read_csv(ts_data[el][0], encoding=\"ISO-8859-1\")\n",
    "        df = make_dataset_from_ts(df[[Y]], value=Y) #TS\n",
    "\n",
    "        if el =='ibm':\n",
    "            df = df[:-1] #THERE WAS A NAN in the last column during the reading\n",
    "            df = df[df[Y].notna()] # There were still some ones in the\n",
    "            df[Y] = pd.to_numeric(df[Y])\n",
    "        elif el =='precipitation':\n",
    "            df = df[:-2] #THERE WAS A NAN and String in the last columns during the reading\n",
    "            df = df[df[Y].notna()] # There were still some ones in the\n",
    "            df[Y] = pd.to_numeric(df[Y])\n",
    "\n",
    "        X = list(df.columns[1:]) #TS\n",
    "        ds, competition = train_test_split(df, test_size=0.2)\n",
    "        ds = ds.reset_index(drop=True)\n",
    "        competition = competition.reset_index(drop=True)\n",
    "\n",
    "        print(el)\n",
    "        if model == 'assembly':\n",
    "            ts_results[model].append(assembly_regression.analyze_assembly(learning_ds=ds, competition_ds=competition, X=X, Y=Y)[0]['rmse']) "
   ]
  },
  {
   "cell_type": "code",
   "execution_count": 9,
   "metadata": {},
   "outputs": [
    {
     "data": {
      "text/plain": [
       "{'assembly': [17.319292968587785,\n",
       "  26.2052017152204,\n",
       "  13091.44626070664,\n",
       "  40.25414091053823,\n",
       "  6.524948497429104]}"
      ]
     },
     "execution_count": 9,
     "metadata": {},
     "output_type": "execute_result"
    }
   ],
   "source": [
    "ts_results"
   ]
  },
  {
   "cell_type": "code",
   "execution_count": null,
   "metadata": {},
   "outputs": [],
   "source": []
  }
 ],
 "metadata": {
  "colab": {
   "collapsed_sections": [],
   "name": "Comparison.ipynb",
   "provenance": []
  },
  "kernelspec": {
   "display_name": "Python 3",
   "language": "python",
   "name": "python3"
  },
  "language_info": {
   "codemirror_mode": {
    "name": "ipython",
    "version": 3
   },
   "file_extension": ".py",
   "mimetype": "text/x-python",
   "name": "python",
   "nbconvert_exporter": "python",
   "pygments_lexer": "ipython3",
   "version": "3.8.7"
  }
 },
 "nbformat": 4,
 "nbformat_minor": 1
}
